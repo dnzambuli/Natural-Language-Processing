{
 "cells": [
  {
   "cell_type": "code",
   "execution_count": 4,
   "id": "16885232-463d-4e5f-a043-705c4fe2c816",
   "metadata": {},
   "outputs": [
    {
     "name": "stderr",
     "output_type": "stream",
     "text": [
      "[nltk_data] Downloading package punkt to\n",
      "[nltk_data]     C:\\Users\\ADMIN\\AppData\\Roaming\\nltk_data...\n",
      "[nltk_data]   Package punkt is already up-to-date!\n"
     ]
    }
   ],
   "source": [
    "# importing the NLTK library\n",
    "import nltk\n",
    "nltk.download('punkt')\n",
    "from nltk.tokenize import word_tokenize\n",
    "from nltk import pos_tag"
   ]
  },
  {
   "cell_type": "code",
   "execution_count": 9,
   "id": "34f4e4d7-7615-4a95-953d-ecfea2ccd574",
   "metadata": {},
   "outputs": [],
   "source": [
    "# text = '''\n",
    "# \"Following the non-attendance of other parties we cannot give directions. The matter is stood over to October 30, 2024,\" the bench led by Justice Jairus Ngaah directed.\n",
    "\n",
    "# In the case, various parties, including the National Assembly and Senate, have sued the former Chief Justice David Maraga following his advisory to retired President Uhuru Kenyatta to send all MPs packing for failing to pass laws to implement the two-thirds gender rule.\n",
    "\n",
    "# The five High Court judges that could save or send the MPs packing are Judges Ngaah who is presiding the bench and Lawrence Mugambi.\n",
    "\n",
    "# Others are Patricia Nyaundi, Moses Otieno, and Tabitha Ouya Wanyama.\n",
    "\n",
    "# They are required to determine the issues raised which petitioners are urging the high court to dissolve the parliament for not enacting legislation to give effect to the principle in Article 81 (b).\n",
    "# '''\n",
    "\n",
    "text = \"I watch your program. I program your watch\"\n",
    "\n",
    "tokens = word_tokenize(text.lower())"
   ]
  },
  {
   "cell_type": "code",
   "execution_count": 7,
   "id": "0c527550-5f94-471c-ab70-233123f71b53",
   "metadata": {},
   "outputs": [
    {
     "name": "stderr",
     "output_type": "stream",
     "text": [
      "[nltk_data] Downloading package averaged_perceptron_tagger to\n",
      "[nltk_data]     C:\\Users\\ADMIN\\AppData\\Roaming\\nltk_data...\n",
      "[nltk_data]   Unzipping taggers\\averaged_perceptron_tagger.zip.\n"
     ]
    },
    {
     "data": {
      "text/plain": [
       "True"
      ]
     },
     "execution_count": 7,
     "metadata": {},
     "output_type": "execute_result"
    }
   ],
   "source": [
    "nltk.download('averaged_perceptron_tagger')"
   ]
  },
  {
   "cell_type": "code",
   "execution_count": 10,
   "id": "aebacb77-f652-4f23-8a0e-1c316cbfabb4",
   "metadata": {},
   "outputs": [],
   "source": [
    "pos_tags = pos_tag(tokens)"
   ]
  },
  {
   "cell_type": "code",
   "execution_count": 14,
   "id": "313c3f9e-930e-4ca3-93ae-038e04b94427",
   "metadata": {},
   "outputs": [
    {
     "name": "stdout",
     "output_type": "stream",
     "text": [
      "Original text\n",
      "I watch your program. I program your watch\n",
      "POS tagged text\n",
      "i -> JJ\n",
      "watch -> VBP\n",
      "your -> PRP$\n",
      "program -> NN\n",
      ". -> .\n",
      "i -> JJ\n",
      "program -> NN\n",
      "your -> PRP$\n",
      "watch -> NN\n"
     ]
    }
   ],
   "source": [
    "print(\"Original text\")\n",
    "print(text)\n",
    "print(\"POS tagged text\")\n",
    "for word, tag in pos_tags:\n",
    "    print(\"%s -> %s\" % (word, tag))"
   ]
  },
  {
   "cell_type": "markdown",
   "id": "0f07faec-c2f7-4fa8-9f54-84a2f1922fd6",
   "metadata": {},
   "source": [
    "# POS tagging with hidden markov models"
   ]
  },
  {
   "cell_type": "code",
   "execution_count": 16,
   "id": "7b7aed5a-31b7-4208-980c-1fa6d36b0924",
   "metadata": {},
   "outputs": [],
   "source": [
    "# the libraries\n",
    "from nltk.corpus import treebank\n",
    "from nltk.tag import hmm"
   ]
  },
  {
   "cell_type": "code",
   "execution_count": 17,
   "id": "4ee37100-4848-42aa-b251-8e610e2b2cd1",
   "metadata": {},
   "outputs": [
    {
     "name": "stderr",
     "output_type": "stream",
     "text": [
      "[nltk_data] Downloading package treebank to\n",
      "[nltk_data]     C:\\Users\\ADMIN\\AppData\\Roaming\\nltk_data...\n",
      "[nltk_data]   Unzipping corpora\\treebank.zip.\n"
     ]
    }
   ],
   "source": [
    "# load POS-tagged corpus (Treebanks in this case)\n",
    "\n",
    "nltk.download('treebank')\n",
    "train_data = treebank.tagged_sents()[:1500]\n",
    "test_data = treebank.tagged_sents()[1500:]"
   ]
  },
  {
   "cell_type": "markdown",
   "id": "11512dc7-1f1e-4c9c-8f0f-6f4b6b58f61c",
   "metadata": {},
   "source": [
    "## training the HMM: using NLTK's treebank corpus to train the hmm"
   ]
  },
  {
   "cell_type": "code",
   "execution_count": 18,
   "id": "ef4a0969-e47c-4b06-9173-cbaee6f4f601",
   "metadata": {},
   "outputs": [],
   "source": [
    "trainer = hmm.HiddenMarkovModelTrainer()\n",
    "hmm_tagger = trainer.train(train_data)"
   ]
  },
  {
   "cell_type": "markdown",
   "id": "ee3ac0a0-3319-4c16-a7ea-17700e440579",
   "metadata": {},
   "source": [
    "## taggging a sentence: using the trained model to tag new sentences"
   ]
  },
  {
   "cell_type": "code",
   "execution_count": 23,
   "id": "1b7a2f15-5098-444e-bb6e-f8c4ff7a02a4",
   "metadata": {},
   "outputs": [
    {
     "name": "stderr",
     "output_type": "stream",
     "text": [
      "C:\\Users\\ADMIN\\anaconda\\Lib\\site-packages\\nltk\\tag\\hmm.py:334: RuntimeWarning: overflow encountered in cast\n",
      "  X[i, j] = self._transitions[si].logprob(self._states[j])\n",
      "C:\\Users\\ADMIN\\anaconda\\Lib\\site-packages\\nltk\\tag\\hmm.py:336: RuntimeWarning: overflow encountered in cast\n",
      "  O[i, k] = self._output_logprob(si, self._symbols[k])\n",
      "C:\\Users\\ADMIN\\anaconda\\Lib\\site-packages\\nltk\\tag\\hmm.py:332: RuntimeWarning: overflow encountered in cast\n",
      "  P[i] = self._priors.logprob(si)\n"
     ]
    },
    {
     "name": "stdout",
     "output_type": "stream",
     "text": [
      "the -> DT\n",
      "new -> JJ\n",
      "judge -> NN\n",
      "bench -> NNP\n",
      "was -> NNP\n",
      "constituted -> NNP\n",
      "to -> NNP\n",
      "hear -> NNP\n",
      "and -> NNP\n",
      "determine -> NNP\n",
      "the -> NNP\n",
      "petitions -> NNP\n",
      "on -> NNP\n",
      "a -> NNP\n",
      "priority -> NNP\n",
      "basis -> NNP\n",
      "since -> NNP\n",
      "the -> NNP\n",
      "it -> NNP\n",
      "has -> NNP\n",
      "been -> NNP\n",
      "pending -> NNP\n",
      "in -> NNP\n",
      "court -> NNP\n",
      "since -> NNP\n",
      "2019 -> NNP\n",
      ". -> NNP\n"
     ]
    },
    {
     "name": "stderr",
     "output_type": "stream",
     "text": [
      "C:\\Users\\ADMIN\\anaconda\\Lib\\site-packages\\nltk\\tag\\hmm.py:364: RuntimeWarning: overflow encountered in cast\n",
      "  O[i, k] = self._output_logprob(si, self._symbols[k])\n"
     ]
    }
   ],
   "source": [
    "sample_sentence = 'The new judge bench was constituted to hear and determine the petitions on a priority basis since the it has been pending in court since 2019.'\n",
    "sample_tokens = word_tokenize(sample_sentence.lower())\n",
    "\n",
    "pos_samples = hmm_tagger.tag(sample_tokens)\n",
    "\n",
    "for word, pos in pos_samples:\n",
    "    print(\"%s -> %s\" % (word, pos))\n",
    "\n"
   ]
  },
  {
   "cell_type": "code",
   "execution_count": 24,
   "id": "73c2cf92-8429-46ea-896c-ab0a2ba90640",
   "metadata": {},
   "outputs": [
    {
     "name": "stdout",
     "output_type": "stream",
     "text": [
      "huku -> NNP\n",
      "ni -> NNP\n",
      "kwetu -> NNP\n",
      ". -> NNP\n",
      "kule -> NNP\n",
      "ni -> NNP\n",
      "kwenu -> NNP\n"
     ]
    }
   ],
   "source": [
    "swahili_sent = \"huku ni kwetu. kule ni kwenu\"\n",
    "swahili_tokens = word_tokenize(swahili_sent.lower())\n",
    "\n",
    "pos_swahili = hmm_tagger.tag(swahili_tokens)\n",
    "\n",
    "for word, pos in pos_swahili:\n",
    "    print(\"%s -> %s\" % (word, pos))\n"
   ]
  },
  {
   "cell_type": "code",
   "execution_count": 26,
   "id": "d5947e77-24f2-4424-ae67-cae0e1ea7a05",
   "metadata": {},
   "outputs": [
    {
     "name": "stdout",
     "output_type": "stream",
     "text": [
      "the -> DT\n",
      "little -> JJ\n",
      "bear -> NNP\n",
      "saw -> NNP\n",
      "the -> NNP\n",
      "fine -> NNP\n",
      "fat -> NNP\n",
      "trout -> NNP\n",
      "in -> NNP\n",
      "the -> NNP\n",
      "brook -> NNP\n"
     ]
    }
   ],
   "source": [
    "new_sent = \"the little bear saw the fine fat trout in the brook\"\n",
    "new_sent_tokens = word_tokenize(new_sent.lower())\n",
    "\n",
    "pos_new_sent = hmm_tagger.tag(new_sent_tokens)\n",
    "\n",
    "for word, pos in pos_new_sent:\n",
    "    print(\"%s -> %s\" % (word, pos))"
   ]
  },
  {
   "cell_type": "code",
   "execution_count": 27,
   "id": "f2ca5740-1d31-4e01-8941-9fa3c3b2f897",
   "metadata": {},
   "outputs": [
    {
     "name": "stdout",
     "output_type": "stream",
     "text": [
      "the -> DT\n",
      "little -> JJ\n",
      "bear -> NNP\n",
      "saw -> NNP\n",
      "the -> NNP\n",
      "fine -> NNP\n",
      "fat -> NNP\n",
      "trout -> NNP\n",
      "in -> NNP\n",
      "the -> NNP\n",
      "brook -> NNP\n"
     ]
    }
   ],
   "source": [
    "new_sent_split = new_sent.split()\n",
    "pos_new_split = hmm_tagger.tag(new_sent_split)\n",
    "\n",
    "for word, pos in pos_new_split:\n",
    "    print(\"%s -> %s\" % (word, pos))\n"
   ]
  },
  {
   "cell_type": "markdown",
   "id": "b4d08d3e-f81b-47bf-b905-33e1a43d5004",
   "metadata": {},
   "source": [
    "## Accuracy\n"
   ]
  },
  {
   "cell_type": "code",
   "execution_count": 30,
   "id": "54dbae76-6ff1-429c-8596-0ac8cbf340f5",
   "metadata": {},
   "outputs": [
    {
     "name": "stdout",
     "output_type": "stream",
     "text": [
      "HMM tagger accuracy:  0.2555720653789004\n"
     ]
    }
   ],
   "source": [
    "accuracy = hmm_tagger.accuracy(test_data)\n",
    "\n",
    "print(\"HMM tagger accuracy: \", accuracy) "
   ]
  },
  {
   "cell_type": "code",
   "execution_count": null,
   "id": "0356f991-fc9e-4875-9e4f-07819d16a241",
   "metadata": {},
   "outputs": [],
   "source": []
  }
 ],
 "metadata": {
  "kernelspec": {
   "display_name": "Python 3 (ipykernel)",
   "language": "python",
   "name": "python3"
  },
  "language_info": {
   "codemirror_mode": {
    "name": "ipython",
    "version": 3
   },
   "file_extension": ".py",
   "mimetype": "text/x-python",
   "name": "python",
   "nbconvert_exporter": "python",
   "pygments_lexer": "ipython3",
   "version": "3.12.4"
  }
 },
 "nbformat": 4,
 "nbformat_minor": 5
}
