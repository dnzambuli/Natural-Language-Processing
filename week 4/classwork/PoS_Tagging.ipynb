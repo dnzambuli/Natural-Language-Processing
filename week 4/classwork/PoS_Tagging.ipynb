{
  "nbformat": 4,
  "nbformat_minor": 0,
  "metadata": {
    "colab": {
      "provenance": []
    },
    "kernelspec": {
      "name": "python3",
      "display_name": "Python 3"
    },
    "language_info": {
      "name": "python"
    }
  },
  "cells": [
    {
      "cell_type": "markdown",
      "source": [
        "# Parts of Speech Tagging\n",
        "Part-of-speech tagging, or POS tagging, is a task in natural language\n",
        "processing that entails classifying words in a text according to their grammatical categories (such as noun, verb, and adjective)<br>\n",
        "POS tagging can be rule-based or statistical. In statistical approaches, machine learning models are trained on annotated corpora to predict the most likely POS tags for words based on context.<br>\n",
        "For applications like named entity recognition, information retrieval, and machine translation, POS tagging is essential for comprehending a language’s syntactic structure."
      ],
      "metadata": {
        "id": "dnAFdeC7YuJU"
      }
    },
    {
      "cell_type": "code",
      "execution_count": null,
      "metadata": {
        "colab": {
          "base_uri": "https://localhost:8080/"
        },
        "id": "McUSDa2R2URc",
        "outputId": "d17082e1-78ed-490b-92d6-7e2a894c8a5a"
      },
      "outputs": [
        {
          "output_type": "stream",
          "name": "stderr",
          "text": [
            "[nltk_data] Downloading package punkt to /root/nltk_data...\n",
            "[nltk_data]   Package punkt is already up-to-date!\n",
            "[nltk_data] Downloading package averaged_perceptron_tagger to\n",
            "[nltk_data]     /root/nltk_data...\n",
            "[nltk_data]   Unzipping taggers/averaged_perceptron_tagger.zip.\n"
          ]
        }
      ],
      "source": [
        "# Importing the NLTK library\n",
        "import nltk\n",
        "nltk.download('punkt')\n",
        "nltk.download('averaged_perceptron_tagger')\n",
        "from nltk.tokenize import word_tokenize\n",
        "from nltk import pos_tag\n"
      ]
    },
    {
      "cell_type": "code",
      "source": [
        "# Sample text\n",
        "text = \"I watch your program. I love your watch\"\n",
        "# Tokenize the sentence into words and lowercase\n",
        "tokens = word_tokenize(text.lower())"
      ],
      "metadata": {
        "id": "NoBHM1YK2aEV"
      },
      "execution_count": null,
      "outputs": []
    },
    {
      "cell_type": "code",
      "source": [
        "# Performing PoS tagging\n",
        "pos_tags = pos_tag(tokens)"
      ],
      "metadata": {
        "id": "vD-eyVLI2eln"
      },
      "execution_count": null,
      "outputs": []
    },
    {
      "cell_type": "code",
      "source": [
        "# Displaying the PoS tagged result in separate lines\n",
        "print(\"Original Text:\")\n",
        "print(text)\n",
        "\n",
        "print(\"\\nPoS Tagging Result:\")\n",
        "for word, pos_tag in pos_tags:\n",
        "\tprint(f\"{word}: {pos_tag}\")"
      ],
      "metadata": {
        "colab": {
          "base_uri": "https://localhost:8080/"
        },
        "id": "bmpmh-tV2niJ",
        "outputId": "39198155-feb8-42e4-914e-73e867fb87ed"
      },
      "execution_count": null,
      "outputs": [
        {
          "output_type": "stream",
          "name": "stdout",
          "text": [
            "Original Text:\n",
            "I watch your program. I love your watch\n",
            "\n",
            "PoS Tagging Result:\n",
            "i: JJ\n",
            "watch: VBP\n",
            "your: PRP$\n",
            "program: NN\n",
            ".: .\n",
            "i: VB\n",
            "love: VBP\n",
            "your: PRP$\n",
            "watch: NN\n"
          ]
        }
      ]
    },
    {
      "cell_type": "markdown",
      "source": [
        "# Implementing POS Tagging with Hidden Markov Models (HMMs)\n",
        "<ul><li>HMMs as a generative probabilistic model.\n",
        "<ul><li>Transition probabilities (probability of one tag following another) and <li>emission probabilities (probability of a word being assigned a specific tag).</ul>\n",
        "<li>The Viterbi Algorithm for finding the most probable tag sequence."
      ],
      "metadata": {
        "id": "jP56r1DgaiqF"
      }
    },
    {
      "cell_type": "markdown",
      "source": [
        "#### Step-by-Step Implementation:\n",
        "\n",
        "<ul><li>Introduce the concept of training and testing data (e.g., a POS-annotated corpus).\n",
        "<li>Demonstrate the process of training an HMM to predict POS tags.\n",
        "<li>Implement a basic HMM POS tagger in Python using NLTK."
      ],
      "metadata": {
        "id": "-9bUdu3VbdrA"
      }
    },
    {
      "cell_type": "code",
      "source": [
        "import nltk\n",
        "from nltk.corpus import treebank\n",
        "from nltk.corpus import brown\n",
        "from nltk.tag import hmm\n"
      ],
      "metadata": {
        "id": "9ni5-wrIbFOy"
      },
      "execution_count": null,
      "outputs": []
    },
    {
      "cell_type": "code",
      "source": [
        "# Load POS-tagged corpus (Treebank in this case)\n",
        "nltk.download('brown')\n",
        "train_data = treebank.tagged_sents()[:10000]  # Training data\n",
        "test_data = treebank.tagged_sents()[3000:]  # Test data"
      ],
      "metadata": {
        "colab": {
          "base_uri": "https://localhost:8080/"
        },
        "id": "6VYBoSTobqvO",
        "outputId": "a5f4193d-b7d0-4c68-cdbd-f5b607305e52"
      },
      "execution_count": null,
      "outputs": [
        {
          "output_type": "stream",
          "name": "stderr",
          "text": [
            "[nltk_data] Downloading package brown to /root/nltk_data...\n",
            "[nltk_data]   Package brown is already up-to-date!\n"
          ]
        }
      ]
    },
    {
      "cell_type": "markdown",
      "source": [
        "#### Training the HMM: Using NLTK’s Treebank corpus to train the HMM."
      ],
      "metadata": {
        "id": "mNnKNtsfcc9k"
      }
    },
    {
      "cell_type": "code",
      "source": [
        "# Train an HMM POS tagger\n",
        "trainer = hmm.HiddenMarkovModelTrainer()\n",
        "hmm_tagger = trainer.train(train_data)\n"
      ],
      "metadata": {
        "id": "2Vm6d_vLbtsT"
      },
      "execution_count": null,
      "outputs": []
    },
    {
      "cell_type": "markdown",
      "source": [
        "#### Tagging a Sentence: Using the trained model to tag new sentences."
      ],
      "metadata": {
        "id": "doSS6Bj8clJg"
      }
    },
    {
      "cell_type": "code",
      "source": [
        "# Test the model on a sample sentence\n",
        "sample_sentence = \"Natural language processing is interesting\".split()\n",
        "pos_tags = hmm_tagger.tag(sample_sentence)\n",
        "print(\"POS Tags:\", pos_tags)"
      ],
      "metadata": {
        "colab": {
          "base_uri": "https://localhost:8080/"
        },
        "id": "F3sC6o8ibz1j",
        "outputId": "a0d5b1f4-3d8e-4155-e5b2-918d589811bd"
      },
      "execution_count": null,
      "outputs": [
        {
          "output_type": "stream",
          "name": "stdout",
          "text": [
            "POS Tags: [('Natural', 'NNP'), ('language', 'NN'), ('processing', 'NN'), ('is', 'VBZ'), ('interesting', 'JJ')]\n"
          ]
        }
      ]
    },
    {
      "cell_type": "markdown",
      "source": [
        "#### Model Evaluation: Evaluate the tagger’s accuracy on the test data."
      ],
      "metadata": {
        "id": "bw0LXxVccukh"
      }
    },
    {
      "cell_type": "code",
      "source": [
        "\n",
        "# Evaluate the model on test data\n",
        "accuracy = hmm_tagger.evaluate(test_data)\n",
        "print(\"HMM Tagger Accuracy:\", accuracy)"
      ],
      "metadata": {
        "colab": {
          "base_uri": "https://localhost:8080/"
        },
        "id": "tQJYyMaHb2F-",
        "outputId": "3abfa6cb-7efe-4019-d4c5-78c46f369aed"
      },
      "execution_count": null,
      "outputs": [
        {
          "output_type": "stream",
          "name": "stderr",
          "text": [
            "<ipython-input-27-05a860e9bc49>:2: DeprecationWarning: \n",
            "  Function evaluate() has been deprecated.  Use accuracy(gold)\n",
            "  instead.\n",
            "  accuracy = hmm_tagger.evaluate(test_data)\n"
          ]
        },
        {
          "output_type": "stream",
          "name": "stdout",
          "text": [
            "HMM Tagger Accuracy: 0.9838981221670624\n"
          ]
        }
      ]
    },
    {
      "cell_type": "markdown",
      "source": [
        "#### ACTIVITY:\n",
        "\n",
        "<ul><Li>Explore different datasets or sentences to tag.\n",
        "\n",
        "<li>Modify the sample corpus to see how well the HMM tagger performs with unseen words or rare tag combinations..\n",
        "<li>Compare the performance of the different tagging methods\n"
      ],
      "metadata": {
        "id": "D5TGim7ZcQDE"
      }
    },
    {
      "cell_type": "code",
      "source": [],
      "metadata": {
        "id": "94pSt9VDcSSt"
      },
      "execution_count": null,
      "outputs": []
    }
  ]
}